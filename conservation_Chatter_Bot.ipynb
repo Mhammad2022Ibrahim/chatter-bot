{
  "nbformat": 4,
  "nbformat_minor": 0,
  "metadata": {
    "colab": {
      "provenance": []
    },
    "kernelspec": {
      "name": "python3",
      "display_name": "Python 3"
    },
    "language_info": {
      "name": "python"
    }
  },
  "cells": [
    {
      "cell_type": "code",
      "execution_count": 1,
      "metadata": {
        "colab": {
          "base_uri": "https://localhost:8080/"
        },
        "id": "mvIs04e89MfE",
        "outputId": "75e96185-2b49-48eb-ba0d-edb57ab92b6b"
      },
      "outputs": [
        {
          "output_type": "stream",
          "name": "stdout",
          "text": [
            "\u001b[2K     \u001b[90m━━━━━━━━━━━━━━━━━━━━━━━━━━━━━━━━━━━━━━━━\u001b[0m \u001b[32m66.3/66.3 KB\u001b[0m \u001b[31m3.3 MB/s\u001b[0m eta \u001b[36m0:00:00\u001b[0m\n",
            "\u001b[2K     \u001b[90m━━━━━━━━━━━━━━━━━━━━━━━━━━━━━━━━━━━━━━━━\u001b[0m \u001b[32m5.7/5.7 MB\u001b[0m \u001b[31m66.3 MB/s\u001b[0m eta \u001b[36m0:00:00\u001b[0m\n",
            "\u001b[?25h  Preparing metadata (setup.py) ... \u001b[?25l\u001b[?25hdone\n",
            "\u001b[2K     \u001b[90m━━━━━━━━━━━━━━━━━━━━━━━━━━━━━━━━━━━━━━\u001b[0m \u001b[32m515.5/515.5 KB\u001b[0m \u001b[31m36.8 MB/s\u001b[0m eta \u001b[36m0:00:00\u001b[0m\n",
            "\u001b[2K     \u001b[90m━━━━━━━━━━━━━━━━━━━━━━━━━━━━━━━━━━━━━━\u001b[0m \u001b[32m225.7/225.7 KB\u001b[0m \u001b[31m24.4 MB/s\u001b[0m eta \u001b[36m0:00:00\u001b[0m\n",
            "\u001b[2K     \u001b[90m━━━━━━━━━━━━━━━━━━━━━━━━━━━━━━━━━━━━━━━\u001b[0m \u001b[32m269.5/269.5 KB\u001b[0m \u001b[31m2.3 MB/s\u001b[0m eta \u001b[36m0:00:00\u001b[0m\n",
            "\u001b[2K     \u001b[90m━━━━━━━━━━━━━━━━━━━━━━━━━━━━━━━━━━━━━━\u001b[0m \u001b[32m117.3/117.3 KB\u001b[0m \u001b[31m14.6 MB/s\u001b[0m eta \u001b[36m0:00:00\u001b[0m\n",
            "\u001b[2K     \u001b[90m━━━━━━━━━━━━━━━━━━━━━━━━━━━━━━━━━━━━━━\u001b[0m \u001b[32m270.6/270.6 KB\u001b[0m \u001b[31m29.5 MB/s\u001b[0m eta \u001b[36m0:00:00\u001b[0m\n",
            "\u001b[?25h  Preparing metadata (setup.py) ... \u001b[?25l\u001b[?25hdone\n",
            "  Building wheel for sqlalchemy (setup.py) ... \u001b[?25l\u001b[?25hdone\n",
            "  Building wheel for PyYAML (setup.py) ... \u001b[?25l\u001b[?25hdone\n",
            "\u001b[31mERROR: pip's dependency resolver does not currently take into account all the packages that are installed. This behaviour is the source of the following dependency conflicts.\n",
            "prophet 1.1.2 requires python-dateutil>=2.8.0, but you have python-dateutil 2.7.5 which is incompatible.\n",
            "dask 2022.2.1 requires pyyaml>=5.3.1, but you have pyyaml 3.13 which is incompatible.\u001b[0m\u001b[31m\n",
            "\u001b[0m"
          ]
        }
      ],
      "source": [
        "!pip install -q chatterbot==1.0.4"
      ]
    },
    {
      "cell_type": "code",
      "source": [
        "from chatterbot import ChatBot\n",
        "from chatterbot.trainers import ListTrainer\n",
        "\n",
        "# Create a chatbot instance\n",
        "chatbot = ChatBot('MyChatBot')\n",
        "\n",
        "# Create a new trainer for the chatbot\n",
        "trainer = ListTrainer(chatbot)\n",
        "\n",
        "# Load the conversation data\n",
        "with open('/content/conservation.txt') as f:\n",
        "    conversation_data = f.readlines()\n",
        "\n",
        "# Train the chatbot with the conversation data\n",
        "trainer.train(conversation_data)\n"
      ],
      "metadata": {
        "colab": {
          "base_uri": "https://localhost:8080/"
        },
        "id": "vjnFG6oS9PBw",
        "outputId": "396faf90-ce79-4169-ea39-b1afd83de41d"
      },
      "execution_count": 2,
      "outputs": [
        {
          "output_type": "stream",
          "name": "stderr",
          "text": [
            "[nltk_data] Downloading package averaged_perceptron_tagger to\n",
            "[nltk_data]     /root/nltk_data...\n",
            "[nltk_data]   Unzipping taggers/averaged_perceptron_tagger.zip.\n",
            "[nltk_data] Downloading package punkt to /root/nltk_data...\n",
            "[nltk_data]   Unzipping tokenizers/punkt.zip.\n",
            "[nltk_data] Downloading package stopwords to /root/nltk_data...\n",
            "[nltk_data]   Unzipping corpora/stopwords.zip.\n",
            "[nltk_data] Downloading package wordnet to /root/nltk_data...\n"
          ]
        },
        {
          "output_type": "stream",
          "name": "stdout",
          "text": [
            "List Trainer: [####################] 100%\n"
          ]
        }
      ]
    },
    {
      "cell_type": "code",
      "source": [
        "# Get a response from the chatbot\n",
        "response = chatbot.get_response('hi, how are you doing?')\n",
        "\n",
        "# Print the response\n",
        "print(response)"
      ],
      "metadata": {
        "colab": {
          "base_uri": "https://localhost:8080/"
        },
        "id": "ovwZf9s-9du7",
        "outputId": "4a055653-0d46-4c35-bd51-e19baea8e24e"
      },
      "execution_count": 3,
      "outputs": [
        {
          "output_type": "stream",
          "name": "stdout",
          "text": [
            "if i catch you, you'll be sorry. you won't catch me, because i love you. i'm not a cheater.\n"
          ]
        }
      ]
    },
    {
      "cell_type": "markdown",
      "source": [
        "***How logic adapters select a response***"
      ],
      "metadata": {
        "id": "y57eh98kT_oo"
      }
    },
    {
      "cell_type": "code",
      "source": [
        "import random\n",
        "\n",
        "def select_response(statement, statement_list, storage=None):\n",
        "    # Compute the similarity between the input statement and each statement in the list\n",
        "    similarities = [get_similarity(statement, s) for s in statement_list]\n",
        "\n",
        "    # Compute the maximum similarity value\n",
        "    max_similarity = max(similarities)\n",
        "\n",
        "    # Get the indices of all statements with maximum similarity\n",
        "    max_similarity_indices = [i for i, sim in enumerate(similarities) if sim == max_similarity]\n",
        "\n",
        "    # Select a random statement from the statements with maximum similarity\n",
        "    selected_statement = statement_list[random.choice(max_similarity_indices)]\n",
        "\n",
        "    return selected_statement"
      ],
      "metadata": {
        "id": "VCs13dTHRKDZ"
      },
      "execution_count": 4,
      "outputs": []
    },
    {
      "cell_type": "code",
      "source": [
        "from chatterbot.response_selection import get_most_frequent_response\n",
        "from chatterbot.logic import LogicAdapter\n",
        "\n",
        "class MyLogicAdapter(LogicAdapter):\n",
        "    def __init__(self, chatbot, **kwargs):\n",
        "        super().__init__(chatbot, **kwargs)\n",
        "\n",
        "        self.api_key = kwargs.get('secret_key')\n",
        "\n",
        "chatbot = ChatBot(\n",
        "    'MyChatBot',\n",
        "    secret_key='1234567890',\n",
        "    logic_adapters=[\n",
        "        \"chatterbot.logic.BestMatch\"\n",
        "    ],\n",
        "    response_selection_method=get_most_frequent_response\n",
        ")"
      ],
      "metadata": {
        "colab": {
          "base_uri": "https://localhost:8080/"
        },
        "id": "xN0NFOsr98AP",
        "outputId": "03920a17-d135-491e-b08d-45b4481ec21c"
      },
      "execution_count": 13,
      "outputs": [
        {
          "output_type": "stream",
          "name": "stderr",
          "text": [
            "[nltk_data] Downloading package averaged_perceptron_tagger to\n",
            "[nltk_data]     /root/nltk_data...\n",
            "[nltk_data]   Package averaged_perceptron_tagger is already up-to-\n",
            "[nltk_data]       date!\n",
            "[nltk_data] Downloading package punkt to /root/nltk_data...\n",
            "[nltk_data]   Package punkt is already up-to-date!\n",
            "[nltk_data] Downloading package stopwords to /root/nltk_data...\n",
            "[nltk_data]   Package stopwords is already up-to-date!\n"
          ]
        }
      ]
    },
    {
      "cell_type": "code",
      "source": [
        "import logging\n",
        "\n",
        "logging.basicConfig(level=logging.INFO)\n",
        "\n",
        "chatbot = ChatBot(\n",
        "    'MyChatBot',\n",
        "    secret_key='1234567890',\n",
        "    logic_adapters=[\n",
        "        \"chatterbot.logic.BestMatch\"\n",
        "    ],\n",
        "    response_selection_method=get_most_frequent_response\n",
        ")"
      ],
      "metadata": {
        "colab": {
          "base_uri": "https://localhost:8080/"
        },
        "id": "wLDjd9X0I6s7",
        "outputId": "ca6b92d1-cb14-4477-9a74-754cf3ddd381"
      },
      "execution_count": 14,
      "outputs": [
        {
          "output_type": "stream",
          "name": "stderr",
          "text": [
            "[nltk_data] Downloading package averaged_perceptron_tagger to\n",
            "[nltk_data]     /root/nltk_data...\n",
            "[nltk_data]   Package averaged_perceptron_tagger is already up-to-\n",
            "[nltk_data]       date!\n",
            "[nltk_data] Downloading package punkt to /root/nltk_data...\n",
            "[nltk_data]   Package punkt is already up-to-date!\n",
            "[nltk_data] Downloading package stopwords to /root/nltk_data...\n",
            "[nltk_data]   Package stopwords is already up-to-date!\n"
          ]
        }
      ]
    },
    {
      "cell_type": "code",
      "source": [
        "# Create a new trainer for the chatbot\n",
        "trainer = ListTrainer(chatbot)\n",
        "\n",
        "# Load the conversation data\n",
        "with open('/content/conservation.txt') as f:\n",
        "    conversation_data = f.readlines()\n",
        "\n",
        "# Train the chatbot with the conversation data\n",
        "trainer.train(conversation_data)"
      ],
      "metadata": {
        "colab": {
          "base_uri": "https://localhost:8080/"
        },
        "id": "XplApdQoJDtK",
        "outputId": "9d7ac098-9c8e-4389-fa7a-2b06f51f68f1"
      },
      "execution_count": 15,
      "outputs": [
        {
          "output_type": "stream",
          "name": "stdout",
          "text": [
            "\n"
          ]
        }
      ]
    },
    {
      "cell_type": "code",
      "source": [
        "# Get a response from the chatbot\n",
        "response = chatbot.get_response('hi')\n",
        "\n",
        "# Print the response\n",
        "print(response)"
      ],
      "metadata": {
        "colab": {
          "base_uri": "https://localhost:8080/"
        },
        "id": "hmsZjWcgRTkY",
        "outputId": "ad2ee5b6-aa74-44ea-db50-1d5d244c2d4c"
      },
      "execution_count": 22,
      "outputs": [
        {
          "output_type": "stream",
          "name": "stdout",
          "text": [
            "everything's been good with you? i haven't been better. how about yourself?\n"
          ]
        }
      ]
    },
    {
      "cell_type": "code",
      "source": [
        "# Get a response from the chatbot\n",
        "response = chatbot.get_response(\"how's it going?\")\n",
        "\n",
        "# Print the response\n",
        "print(response)"
      ],
      "metadata": {
        "colab": {
          "base_uri": "https://localhost:8080/"
        },
        "id": "5iTY1O3HSZqD",
        "outputId": "cf9e92d2-d082-4578-8784-84be8929bcc1"
      },
      "execution_count": 18,
      "outputs": [
        {
          "output_type": "stream",
          "name": "stdout",
          "text": [
            "i'm doing well. how about you? never better, thanks.\n"
          ]
        }
      ]
    },
    {
      "cell_type": "code",
      "source": [
        "# Get a response from the chatbot\n",
        "response = chatbot.get_response(\"how are you doing today?\")\n",
        "\n",
        "# Print the response\n",
        "print(response)"
      ],
      "metadata": {
        "colab": {
          "base_uri": "https://localhost:8080/"
        },
        "id": "_IrSzj4DSiA5",
        "outputId": "860063af-f6c1-4de2-b36a-9a2135f7160d"
      },
      "execution_count": 19,
      "outputs": [
        {
          "output_type": "stream",
          "name": "stdout",
          "text": [
            "i'm doing great. what about you? i'm absolutely lovely, thank you.\n"
          ]
        }
      ]
    },
    {
      "cell_type": "code",
      "source": [
        "# Get a response from the chatbot\n",
        "response = chatbot.get_response(\"how come?\")\n",
        "\n",
        "# Print the response\n",
        "print(response)"
      ],
      "metadata": {
        "colab": {
          "base_uri": "https://localhost:8080/"
        },
        "id": "16KYbbhASyYI",
        "outputId": "473bb0c6-2aeb-4d77-e2ed-4944fc8afb2a"
      },
      "execution_count": 20,
      "outputs": [
        {
          "output_type": "stream",
          "name": "stdout",
          "text": [
            "how come? i like how clear the sky gets after it rains.\n"
          ]
        }
      ]
    },
    {
      "cell_type": "code",
      "source": [
        "# Get a response from the chatbot\n",
        "response = chatbot.get_response(\"what's wrong with it?\")\n",
        "\n",
        "# Print the response\n",
        "print(response)"
      ],
      "metadata": {
        "colab": {
          "base_uri": "https://localhost:8080/"
        },
        "id": "9NEgZIm8S-ig",
        "outputId": "06605421-c33a-4908-cabe-9247d2b45df5"
      },
      "execution_count": 21,
      "outputs": [
        {
          "output_type": "stream",
          "name": "stdout",
          "text": [
            "what's wrong with that? he went to las vegas. he lost it all gambling.\n"
          ]
        }
      ]
    },
    {
      "cell_type": "code",
      "source": [
        "# Now we can export the data to a file\n",
        "trainer.export_for_training('./my_export.json')"
      ],
      "metadata": {
        "id": "WKKFA0i8Ta9A"
      },
      "execution_count": 25,
      "outputs": []
    },
    {
      "cell_type": "code",
      "source": [],
      "metadata": {
        "id": "mcV5NBCKTa5J"
      },
      "execution_count": null,
      "outputs": []
    },
    {
      "cell_type": "code",
      "source": [],
      "metadata": {
        "id": "TD8vSnhjTayP"
      },
      "execution_count": null,
      "outputs": []
    },
    {
      "cell_type": "code",
      "source": [],
      "metadata": {
        "id": "fwiPBz-QTapH"
      },
      "execution_count": null,
      "outputs": []
    }
  ]
}